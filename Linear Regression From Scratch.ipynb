{
 "cells": [
  {
   "cell_type": "markdown",
   "metadata": {},
   "source": [
    "### Import Libraries"
   ]
  },
  {
   "cell_type": "code",
   "execution_count": 1,
   "metadata": {},
   "outputs": [],
   "source": [
    "import numpy as np\n",
    "import pandas as pd\n",
    "import matplotlib.pyplot as plt"
   ]
  },
  {
   "cell_type": "markdown",
   "metadata": {},
   "source": [
    "### Read Dataset"
   ]
  },
  {
   "cell_type": "code",
   "execution_count": 2,
   "metadata": {},
   "outputs": [],
   "source": [
    "data = pd.read_csv('data/train.csv')"
   ]
  },
  {
   "cell_type": "code",
   "execution_count": 3,
   "metadata": {},
   "outputs": [
    {
     "data": {
      "text/plain": [
       "pandas.core.frame.DataFrame"
      ]
     },
     "execution_count": 3,
     "metadata": {},
     "output_type": "execute_result"
    }
   ],
   "source": [
    "type(data)"
   ]
  },
  {
   "cell_type": "code",
   "execution_count": 4,
   "metadata": {},
   "outputs": [
    {
     "data": {
      "text/html": [
       "<div>\n",
       "<style scoped>\n",
       "    .dataframe tbody tr th:only-of-type {\n",
       "        vertical-align: middle;\n",
       "    }\n",
       "\n",
       "    .dataframe tbody tr th {\n",
       "        vertical-align: top;\n",
       "    }\n",
       "\n",
       "    .dataframe thead th {\n",
       "        text-align: right;\n",
       "    }\n",
       "</style>\n",
       "<table border=\"1\" class=\"dataframe\">\n",
       "  <thead>\n",
       "    <tr style=\"text-align: right;\">\n",
       "      <th></th>\n",
       "      <th>ID</th>\n",
       "      <th>crim</th>\n",
       "      <th>zn</th>\n",
       "      <th>indus</th>\n",
       "      <th>chas</th>\n",
       "      <th>nox</th>\n",
       "      <th>rm</th>\n",
       "      <th>age</th>\n",
       "      <th>dis</th>\n",
       "      <th>rad</th>\n",
       "      <th>tax</th>\n",
       "      <th>ptratio</th>\n",
       "      <th>black</th>\n",
       "      <th>lstat</th>\n",
       "      <th>medv</th>\n",
       "    </tr>\n",
       "  </thead>\n",
       "  <tbody>\n",
       "    <tr>\n",
       "      <th>0</th>\n",
       "      <td>1</td>\n",
       "      <td>0.00632</td>\n",
       "      <td>18.0</td>\n",
       "      <td>2.31</td>\n",
       "      <td>0</td>\n",
       "      <td>0.538</td>\n",
       "      <td>6.575</td>\n",
       "      <td>65.2</td>\n",
       "      <td>4.0900</td>\n",
       "      <td>1</td>\n",
       "      <td>296</td>\n",
       "      <td>15.3</td>\n",
       "      <td>396.90</td>\n",
       "      <td>4.98</td>\n",
       "      <td>24.0</td>\n",
       "    </tr>\n",
       "    <tr>\n",
       "      <th>1</th>\n",
       "      <td>2</td>\n",
       "      <td>0.02731</td>\n",
       "      <td>0.0</td>\n",
       "      <td>7.07</td>\n",
       "      <td>0</td>\n",
       "      <td>0.469</td>\n",
       "      <td>6.421</td>\n",
       "      <td>78.9</td>\n",
       "      <td>4.9671</td>\n",
       "      <td>2</td>\n",
       "      <td>242</td>\n",
       "      <td>17.8</td>\n",
       "      <td>396.90</td>\n",
       "      <td>9.14</td>\n",
       "      <td>21.6</td>\n",
       "    </tr>\n",
       "    <tr>\n",
       "      <th>2</th>\n",
       "      <td>4</td>\n",
       "      <td>0.03237</td>\n",
       "      <td>0.0</td>\n",
       "      <td>2.18</td>\n",
       "      <td>0</td>\n",
       "      <td>0.458</td>\n",
       "      <td>6.998</td>\n",
       "      <td>45.8</td>\n",
       "      <td>6.0622</td>\n",
       "      <td>3</td>\n",
       "      <td>222</td>\n",
       "      <td>18.7</td>\n",
       "      <td>394.63</td>\n",
       "      <td>2.94</td>\n",
       "      <td>33.4</td>\n",
       "    </tr>\n",
       "    <tr>\n",
       "      <th>3</th>\n",
       "      <td>5</td>\n",
       "      <td>0.06905</td>\n",
       "      <td>0.0</td>\n",
       "      <td>2.18</td>\n",
       "      <td>0</td>\n",
       "      <td>0.458</td>\n",
       "      <td>7.147</td>\n",
       "      <td>54.2</td>\n",
       "      <td>6.0622</td>\n",
       "      <td>3</td>\n",
       "      <td>222</td>\n",
       "      <td>18.7</td>\n",
       "      <td>396.90</td>\n",
       "      <td>5.33</td>\n",
       "      <td>36.2</td>\n",
       "    </tr>\n",
       "    <tr>\n",
       "      <th>4</th>\n",
       "      <td>7</td>\n",
       "      <td>0.08829</td>\n",
       "      <td>12.5</td>\n",
       "      <td>7.87</td>\n",
       "      <td>0</td>\n",
       "      <td>0.524</td>\n",
       "      <td>6.012</td>\n",
       "      <td>66.6</td>\n",
       "      <td>5.5605</td>\n",
       "      <td>5</td>\n",
       "      <td>311</td>\n",
       "      <td>15.2</td>\n",
       "      <td>395.60</td>\n",
       "      <td>12.43</td>\n",
       "      <td>22.9</td>\n",
       "    </tr>\n",
       "  </tbody>\n",
       "</table>\n",
       "</div>"
      ],
      "text/plain": [
       "   ID     crim    zn  indus  chas    nox     rm   age     dis  rad  tax  \\\n",
       "0   1  0.00632  18.0   2.31     0  0.538  6.575  65.2  4.0900    1  296   \n",
       "1   2  0.02731   0.0   7.07     0  0.469  6.421  78.9  4.9671    2  242   \n",
       "2   4  0.03237   0.0   2.18     0  0.458  6.998  45.8  6.0622    3  222   \n",
       "3   5  0.06905   0.0   2.18     0  0.458  7.147  54.2  6.0622    3  222   \n",
       "4   7  0.08829  12.5   7.87     0  0.524  6.012  66.6  5.5605    5  311   \n",
       "\n",
       "   ptratio   black  lstat  medv  \n",
       "0     15.3  396.90   4.98  24.0  \n",
       "1     17.8  396.90   9.14  21.6  \n",
       "2     18.7  394.63   2.94  33.4  \n",
       "3     18.7  396.90   5.33  36.2  \n",
       "4     15.2  395.60  12.43  22.9  "
      ]
     },
     "execution_count": 4,
     "metadata": {},
     "output_type": "execute_result"
    }
   ],
   "source": [
    "data.head()"
   ]
  },
  {
   "cell_type": "code",
   "execution_count": 23,
   "metadata": {},
   "outputs": [
    {
     "data": {
      "text/plain": [
       "(333, 15)"
      ]
     },
     "execution_count": 23,
     "metadata": {},
     "output_type": "execute_result"
    }
   ],
   "source": [
    "data.shape"
   ]
  },
  {
   "cell_type": "markdown",
   "metadata": {},
   "source": [
    "### Feature Selection"
   ]
  },
  {
   "cell_type": "code",
   "execution_count": 7,
   "metadata": {},
   "outputs": [],
   "source": [
    "X = data['rm'].values\n",
    "y = data['medv'].values"
   ]
  },
  {
   "cell_type": "markdown",
   "metadata": {},
   "source": [
    "### Data Visualization"
   ]
  },
  {
   "cell_type": "code",
   "execution_count": 9,
   "metadata": {},
   "outputs": [
    {
     "data": {
      "image/png": "[encoded data removed]",
      "text/plain": [
       "<Figure size 432x288 with 1 Axes>"
      ]
     },
     "metadata": {
      "needs_background": "light"
     },
     "output_type": "display_data"
    }
   ],
   "source": [
    "plt.plot(X, y, 'r.')\n",
    "plt.xlabel('Average number of rooms per dwelling')\n",
    "plt.ylabel('Median value of homes in $1000s')\n",
    "plt.show()"
   ]
  },
  {
   "cell_type": "code",
   "execution_count": 26,
   "metadata": {},
   "outputs": [],
   "source": [
    "X = np.column_stack((np.ones(len(X)), X))\n",
    "y = y.reshape(-1,  1)\n",
    "theta = np.random.randn(2,1)"
   ]
  },
  {
   "cell_type": "code",
   "execution_count": 27,
   "metadata": {},
   "outputs": [
    {
     "name": "stdout",
     "output_type": "stream",
     "text": [
      "[[1.    6.575]\n",
      " [1.    6.421]\n",
      " [1.    6.998]\n",
      " [1.    7.147]\n",
      " [1.    6.012]]\n"
     ]
    }
   ],
   "source": [
    "print(X[:5])"
   ]
  },
  {
   "cell_type": "code",
   "execution_count": 28,
   "metadata": {},
   "outputs": [
    {
     "name": "stdout",
     "output_type": "stream",
     "text": [
      "[[24. ]\n",
      " [21.6]\n",
      " [33.4]\n",
      " [36.2]\n",
      " [22.9]]\n"
     ]
    }
   ],
   "source": [
    "print(y[:5])"
   ]
  },
  {
   "cell_type": "code",
   "execution_count": 29,
   "metadata": {},
   "outputs": [
    {
     "name": "stdout",
     "output_type": "stream",
     "text": [
      "[[-0.45979006]\n",
      " [ 0.03354566]]\n"
     ]
    }
   ],
   "source": [
    "print(theta)"
   ]
  },
  {
   "cell_type": "markdown",
   "metadata": {},
   "source": [
    "### Train-Test split"
   ]
  },
  {
   "cell_type": "code",
   "execution_count": 13,
   "metadata": {},
   "outputs": [
    {
     "name": "stdout",
     "output_type": "stream",
     "text": [
      "X_train \t:  (233, 2)\n",
      "X_test  \t:  (100, 2)\n",
      "y_train \t:  (233, 1)\n",
      "y_test  \t:  (100, 1)\n"
     ]
    }
   ],
   "source": [
    "index = np.arange(len(X))\n",
    "np.random.shuffle(index)\n",
    "\n",
    "train_split = int(0.7*len(X))\n",
    "\n",
    "\n",
    "X_train = X[index[:train_split]]\n",
    "X_test = X[index[train_split:]]\n",
    "y_train = y[index[:train_split]]\n",
    "y_test = y[index[train_split:]]\n",
    "\n",
    "print(\"X_train \\t: \", X_train.shape)\n",
    "print(\"X_test  \\t: \", X_test.shape)\n",
    "print(\"y_train \\t: \", y_train.shape)\n",
    "print(\"y_test  \\t: \", y_test.shape)"
   ]
  },
  {
   "cell_type": "markdown",
   "metadata": {},
   "source": [
    "### Hypothesis\n",
    "<img src='../images/hypothesis.png'></img>"
   ]
  },
  {
   "cell_type": "code",
   "execution_count": 14,
   "metadata": {},
   "outputs": [],
   "source": [
    "def hypothesis(X, theta):\n",
    "    h = np.dot(X, theta)\n",
    "    return h"
   ]
  },
  {
   "cell_type": "markdown",
   "metadata": {},
   "source": [
    "### Cost Function\n",
    "<img src='../images/cost function.png'></img>"
   ]
  },
  {
   "cell_type": "code",
   "execution_count": 10,
   "metadata": {},
   "outputs": [],
   "source": [
    "def cost(X, y, theta):\n",
    "    h = hypothesis(X, theta)\n",
    "    J = np.mean((h-y)**2) / 2\n",
    "    return J"
   ]
  },
  {
   "cell_type": "code",
   "execution_count": 16,
   "metadata": {},
   "outputs": [],
   "source": [
    "def plot_hypothesis(X, y, theta):\n",
    "    X1 = X[:, 1].reshape(-1, 1)\n",
    "    plt.plot(X1, y, 'r.')\n",
    "    plt.plot(X1, hypothesis(X, theta))\n",
    "    plt.xlabel('Average number of rooms per dwelling')\n",
    "    plt.ylabel('Median value of homes in $1000s')\n",
    "    plt.show()"
   ]
  },
  {
   "cell_type": "markdown",
   "metadata": {},
   "source": [
    "### Gradient Descent\n",
    "<img src='../images/gradient descent.png'></img>\n",
    "<img src='../images/gradient descent formula2.png'></img>"
   ]
  },
  {
   "cell_type": "code",
   "execution_count": 17,
   "metadata": {},
   "outputs": [],
   "source": [
    "def optimize(X, y, theta, lr, n_iter):\n",
    "    X0 = X[:, 0].reshape(-1, 1)\n",
    "    X1 = X[:, 1].reshape(-1, 1)\n",
    "    cost_hist = []\n",
    "    for i in range(1, n_iter+1):\n",
    "        h = hypothesis(X, theta)\n",
    "        theta[0] = theta[0] - lr * np.mean((h - y)*X0)\n",
    "        theta[1] = theta[1] - lr * np.mean((h - y)*X1)\n",
    "        \n",
    "        if(i%50 == 0):\n",
    "            J = cost(X, y, theta)\n",
    "            cost_hist.append(J)\n",
    "            print('\\nIteration : ', i, ',\\tCost : ', J)\n",
    "        \n",
    "    return cost_hist"
   ]
  },
  {
   "cell_type": "code",
   "execution_count": 18,
   "metadata": {},
   "outputs": [
    {
     "name": "stdout",
     "output_type": "stream",
     "text": [
      "\n",
      "Iteration :  50 ,\tCost :  27.751147870598963\n",
      "\n",
      "Iteration :  100 ,\tCost :  27.17511369163933\n",
      "\n",
      "Iteration :  150 ,\tCost :  26.628340097640994\n",
      "\n",
      "Iteration :  200 ,\tCost :  26.109340750008883\n",
      "\n",
      "Iteration :  250 ,\tCost :  25.616704811113507\n",
      "\n",
      "Iteration :  300 ,\tCost :  25.149093109097755\n",
      "\n",
      "Iteration :  350 ,\tCost :  24.70523449749833\n",
      "\n",
      "Iteration :  400 ,\tCost :  24.283922399786288\n",
      "\n",
      "Iteration :  450 ,\tCost :  23.884011529432986\n",
      "\n",
      "Iteration :  500 ,\tCost :  23.5044147765858\n",
      "\n",
      "Iteration :  550 ,\tCost :  23.144100252889977\n",
      "\n",
      "Iteration :  600 ,\tCost :  22.802088486423663\n",
      "\n",
      "Iteration :  650 ,\tCost :  22.47744975912061\n",
      "\n",
      "Iteration :  700 ,\tCost :  22.169301579442948\n",
      "\n",
      "Iteration :  750 ,\tCost :  21.876806283433428\n",
      "\n",
      "Iteration :  800 ,\tCost :  21.599168757626227\n",
      "\n",
      "Iteration :  850 ,\tCost :  21.335634277626138\n",
      "\n",
      "Iteration :  900 ,\tCost :  21.085486456480567\n",
      "\n",
      "Iteration :  950 ,\tCost :  20.848045297267344\n",
      "\n",
      "Iteration :  1000 ,\tCost :  20.622665344604425\n",
      "\n",
      "Iteration :  1050 ,\tCost :  20.408733930056684\n",
      "\n",
      "Iteration :  1100 ,\tCost :  20.20566950667008\n",
      "\n",
      "Iteration :  1150 ,\tCost :  20.012920068105828\n",
      "\n",
      "Iteration :  1200 ,\tCost :  19.8299616480772\n",
      "\n",
      "Iteration :  1250 ,\tCost :  19.656296896009923\n",
      "\n",
      "Iteration :  1300 ,\tCost :  19.49145372505407\n",
      "\n",
      "Iteration :  1350 ,\tCost :  19.334984028772503\n",
      "\n",
      "Iteration :  1400 ,\tCost :  19.18646246301713\n",
      "\n",
      "Iteration :  1450 ,\tCost :  19.045485289681697\n",
      "\n",
      "Iteration :  1500 ,\tCost :  18.911669279188086\n",
      "\n",
      "Iteration :  1550 ,\tCost :  18.78465066872254\n",
      "\n",
      "Iteration :  1600 ,\tCost :  18.66408417339001\n",
      "\n",
      "Iteration :  1650 ,\tCost :  18.549642047598425\n",
      "\n",
      "Iteration :  1700 ,\tCost :  18.44101319412155\n",
      "\n",
      "Iteration :  1750 ,\tCost :  18.337902318418408\n",
      "\n",
      "Iteration :  1800 ,\tCost :  18.24002912591037\n",
      "\n",
      "Iteration :  1850 ,\tCost :  18.147127560033926\n",
      "\n",
      "Iteration :  1900 ,\tCost :  18.058945078997674\n",
      "\n",
      "Iteration :  1950 ,\tCost :  17.975241969277757\n",
      "\n",
      "Iteration :  2000 ,\tCost :  17.895790693985283\n",
      "\n",
      "Iteration :  2050 ,\tCost :  17.820375274334534\n",
      "\n",
      "Iteration :  2100 ,\tCost :  17.74879070253046\n",
      "\n",
      "Iteration :  2150 ,\tCost :  17.680842384479554\n",
      "\n",
      "Iteration :  2200 ,\tCost :  17.616345610809045\n",
      "\n",
      "Iteration :  2250 ,\tCost :  17.5551250547566\n",
      "\n",
      "Iteration :  2300 ,\tCost :  17.4970142955655\n",
      "\n",
      "Iteration :  2350 ,\tCost :  17.441855366089687\n",
      "\n",
      "Iteration :  2400 ,\tCost :  17.389498323379023\n",
      "\n",
      "Iteration :  2450 ,\tCost :  17.339800841077306\n",
      "\n",
      "Iteration :  2500 ,\tCost :  17.292627822525077\n",
      "\n",
      "Iteration :  2550 ,\tCost :  17.247851033515545\n",
      "\n",
      "Iteration :  2600 ,\tCost :  17.205348753705234\n",
      "\n",
      "Iteration :  2650 ,\tCost :  17.16500544573178\n",
      "\n",
      "Iteration :  2700 ,\tCost :  17.126711441139435\n",
      "\n",
      "Iteration :  2750 ,\tCost :  17.090362642258505\n",
      "\n",
      "Iteration :  2800 ,\tCost :  17.05586023922828\n",
      "\n",
      "Iteration :  2850 ,\tCost :  17.023110441394262\n",
      "\n",
      "Iteration :  2900 ,\tCost :  16.99202422234947\n",
      "\n",
      "Iteration :  2950 ,\tCost :  16.962517077926833\n",
      "\n",
      "Iteration :  3000 ,\tCost :  16.934508796484682\n",
      "\n",
      "Iteration :  3050 ,\tCost :  16.907923240861063\n",
      "\n",
      "Iteration :  3100 ,\tCost :  16.882688141403904\n",
      "\n",
      "Iteration :  3150 ,\tCost :  16.858734899514648\n",
      "\n",
      "Iteration :  3200 ,\tCost :  16.835998401171178\n",
      "\n",
      "Iteration :  3250 ,\tCost :  16.814416839923116\n",
      "\n",
      "Iteration :  3300 ,\tCost :  16.793931548878383\n",
      "\n",
      "Iteration :  3350 ,\tCost :  16.7744868412243\n",
      "\n",
      "Iteration :  3400 ,\tCost :  16.756029858849622\n",
      "\n",
      "Iteration :  3450 ,\tCost :  16.738510428656102\n",
      "\n",
      "Iteration :  3500 ,\tCost :  16.721880926168915\n",
      "\n",
      "Iteration :  3550 ,\tCost :  16.70609614607523\n",
      "\n",
      "Iteration :  3600 ,\tCost :  16.69111317933898\n",
      "\n",
      "Iteration :  3650 ,\tCost :  16.676891296557763\n",
      "\n",
      "Iteration :  3700 ,\tCost :  16.663391837244856\n",
      "\n",
      "Iteration :  3750 ,\tCost :  16.650578104735295\n",
      "\n",
      "Iteration :  3800 ,\tCost :  16.638415266430393\n",
      "\n",
      "Iteration :  3850 ,\tCost :  16.626870259109463\n",
      "\n",
      "Iteration :  3900 ,\tCost :  16.615911699051445\n",
      "\n",
      "Iteration :  3950 ,\tCost :  16.605509796721986\n",
      "\n",
      "Iteration :  4000 ,\tCost :  16.59563627579416\n",
      "\n",
      "Iteration :  4050 ,\tCost :  16.586264296282675\n",
      "\n",
      "Iteration :  4100 ,\tCost :  16.57736838158257\n",
      "\n",
      "Iteration :  4150 ,\tCost :  16.5689243492141\n",
      "\n",
      "Iteration :  4200 ,\tCost :  16.560909245085583\n",
      "\n",
      "Iteration :  4250 ,\tCost :  16.55330128109543\n",
      "\n",
      "Iteration :  4300 ,\tCost :  16.546079775903813\n",
      "\n",
      "Iteration :  4350 ,\tCost :  16.539225098712908\n",
      "\n",
      "Iteration :  4400 ,\tCost :  16.53271861590291\n",
      "\n",
      "Iteration :  4450 ,\tCost :  16.526542640378793\n",
      "\n",
      "Iteration :  4500 ,\tCost :  16.520680383490035\n",
      "\n",
      "Iteration :  4550 ,\tCost :  16.515115909392687\n",
      "\n",
      "Iteration :  4600 ,\tCost :  16.509834091729697\n",
      "\n",
      "Iteration :  4650 ,\tCost :  16.504820572511694\n",
      "\n",
      "Iteration :  4700 ,\tCost :  16.50006172308655\n",
      "\n",
      "Iteration :  4750 ,\tCost :  16.495544607091485\n",
      "\n",
      "Iteration :  4800 ,\tCost :  16.491256945287123\n",
      "\n",
      "Iteration :  4850 ,\tCost :  16.48718708217787\n",
      "\n",
      "Iteration :  4900 ,\tCost :  16.4833239543278\n",
      "\n",
      "Iteration :  4950 ,\tCost :  16.47965706028608\n",
      "\n",
      "Iteration :  5000 ,\tCost :  16.476176432039985\n"
     ]
    }
   ],
   "source": [
    "cost_hist = optimize(X_train, y_train, theta, 0.04, 5000)"
   ]
  },
  {
   "cell_type": "code",
   "execution_count": 19,
   "metadata": {},
   "outputs": [
    {
     "data": {
      "image/png": "[encoded data removed]",
      "text/plain": [
       "<Figure size 432x288 with 1 Axes>"
      ]
     },
     "metadata": {},
     "output_type": "display_data"
    }
   ],
   "source": [
    "plt.plot(cost_hist)\n",
    "plt.xlabel('Iteration')\n",
    "plt.ylabel('Cost')\n",
    "plt.xticks([])\n",
    "plt.yticks([])\n",
    "plt.show()"
   ]
  },
  {
   "cell_type": "code",
   "execution_count": 20,
   "metadata": {},
   "outputs": [
    {
     "data": {
      "image/png": "[encoded data removed]",
      "text/plain": [
       "<Figure size 432x288 with 1 Axes>"
      ]
     },
     "metadata": {
      "needs_background": "light"
     },
     "output_type": "display_data"
    }
   ],
   "source": [
    "plot_hypothesis(X_test, y_test, theta)"
   ]
  },
  {
   "cell_type": "code",
   "execution_count": null,
   "metadata": {},
   "outputs": [],
   "source": []
  }
 ],
 "metadata": {
  "kernelspec": {
   "display_name": "Python 3",
   "language": "python",
   "name": "python3"
  },
  "language_info": {
   "codemirror_mode": {
    "name": "ipython",
    "version": 3
   },
   "file_extension": ".py",
   "mimetype": "text/x-python",
   "name": "python",
   "nbconvert_exporter": "python",
   "pygments_lexer": "ipython3",
   "version": "3.7.3"
  }
 },
 "nbformat": 4,
 "nbformat_minor": 2
}
